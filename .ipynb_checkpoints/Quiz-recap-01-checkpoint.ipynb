{
 "cells": [
  {
   "cell_type": "markdown",
   "metadata": {},
   "source": [
    "# Compétences évaluées.\n",
    "\n",
    "Écrire des commandes dans l’interpréteur Python.\n",
    "Boucles et conditions.\n",
    "Fonctions.\n",
    "Modules.\n",
    "Traiter les exceptions et les erreurs."
   ]
  },
  {
   "cell_type": "markdown",
   "metadata": {
    "pycharm": {
     "name": "#%% md\n"
    }
   },
   "source": [
    "## Question 1\n",
    "\n",
    "Après ces instructions, de quel type est la variable c ?"
   ]
  },
  {
   "cell_type": "code",
   "execution_count": 2,
   "metadata": {
    "pycharm": {
     "is_executing": false,
     "name": "#%%\n"
    }
   },
   "outputs": [],
   "source": [
    "a = 8\n",
    "b = 3\n",
    "c = a / b"
   ]
  },
  {
   "cell_type": "markdown",
   "metadata": {
    "pycharm": {
     "name": "#%% md\n"
    }
   },
   "source": [
    "* int (entier)\n",
    "* float (flottant)\n",
    "* str (chaîne de caractères)"
   ]
  },
  {
   "cell_type": "markdown",
   "metadata": {
    "pycharm": {
     "name": "#%% md\n"
    }
   },
   "source": [
    "## Question 2\n",
    "\n",
    "Quelle est la variable de type str (chaîne de caractères) parmi les choix suivants ?\n",
    "\n",
    "* 3\n",
    "* 3.1\n",
    "* \"3\""
   ]
  },
  {
   "cell_type": "markdown",
   "metadata": {
    "pycharm": {
     "name": "#%% md\n"
    }
   },
   "source": [
    "## Question 3\n",
    "\n",
    "Quelle est la différence entre entrer une variable dans l'interpréteur interactif et utiliser la fonction print ?\n",
    "\n",
    "* Aucune\n",
    "* Dans l'interpréteur interactif, toutes les variables apparaissent entourées de guillemets.\n",
    "* La fonction print est dédiée à l'affichage, l'interpréteur au débuggage."
   ]
  },
  {
   "cell_type": "markdown",
   "metadata": {
    "pycharm": {
     "name": "#%% md\n"
    }
   },
   "source": [
    "## Question 4\n",
    "\n",
    "De quoi doit être composée une condition au minimum ?\n",
    "\n",
    "* D'un bloc if\n",
    "* D'un bloc if et elif\n",
    "* D'un bloc if et else"
   ]
  },
  {
   "cell_type": "markdown",
   "metadata": {},
   "source": [
    "## Question 5\n",
    "\n",
    "Considérant les instructions ci-dessous, si variable vaut 2.8, quel va être le résultat obtenu ?"
   ]
  },
  {
   "cell_type": "raw",
   "metadata": {},
   "source": [
    "if variable >= 3:\n",
    "    print(\"1\")\n",
    "elif variable < -1:\n",
    "    print(\"2\")\n",
    "else:\n",
    "    print(\"3\")"
   ]
  },
  {
   "cell_type": "markdown",
   "metadata": {},
   "source": [
    "* Afficher 1.\n",
    "* Afficher 2.\n",
    "* Afficher 3.\n",
    "* N'afficher rien."
   ]
  },
  {
   "cell_type": "markdown",
   "metadata": {},
   "source": [
    "## Question 6\n",
    "\n",
    "Considérant le prédicat combiné ci-dessous, dans quel cas sera-t-il True (vrai) ?\n",
    "predicat_a and predicat_b\n",
    "\n",
    "* predicat_a est vrai, peu importe predicat_b.\n",
    "* predicat_b est vrai, peu importe predicat_a.\n",
    "* L'un d'eux est vrai, peu importe l'autre.\n",
    "* predicat_a et predicat_b sont tous deux vrais."
   ]
  },
  {
   "cell_type": "markdown",
   "metadata": {},
   "source": [
    "## Question 7\n",
    "\n",
    "Comment Python identifie-t-il les instructions formant un bloc (par exemple à l'intérieur d'une condition) ?\n",
    "\n",
    "* Grâce à l'indentation\n",
    "* Grâce aux accolades ({}) entourant le bloc\n",
    "* Grâce aux deux points en début de bloc"
   ]
  },
  {
   "cell_type": "markdown",
   "metadata": {},
   "source": [
    "## Question 8\n",
    "\n",
    "Quel est l'avantage de la boucle while sur la boucle for ?\n",
    "\n",
    "* Aucun.\n",
    "* Elle est préférable pour parcourir des séquences.\n",
    "* Elle fait la même chose en moins de lignes de code.\n",
    "* Elle crée rarement de boucle infinie.\n",
    "* Elle est plus utile pour vérifier une condition."
   ]
  },
  {
   "cell_type": "markdown",
   "metadata": {},
   "source": [
    "## Question 9\n",
    "\n",
    "Quel est l'avantage de la boucle for sur la boucle while ?\n",
    "\n",
    "* Elle est préférable pour parcourir des séquences.\n",
    "* Elle est plus utile pour vérifier une condition.\n",
    "* C'est l'unique façon de parcourir des séquences."
   ]
  },
  {
   "cell_type": "markdown",
   "metadata": {},
   "source": [
    "## Question 10\n",
    "\n",
    "Quelle est la différence entre le mot-clé break et continue ?\n",
    "\n",
    "* break interrompt la boucle immédiatement alors que continue passe au prochain tour de boucle.\n",
    "* continue interrompt la boucle immédiatement alors que break passe au prochain tour de boucle.\n",
    "* Les deux mot-clés font exactement la même chose en interrompant la boucle immédiatement.\n"
   ]
  },
  {
   "cell_type": "markdown",
   "metadata": {},
   "source": [
    "## Question 11\n",
    "\n",
    "Sachant la définition de fonction ci-dessous, quel est l'appel INVALIDE parmi les choix suivants ? ",
    "def table(nombre, maximum=10):\n",
    "\n",
    "* table(5, 20)\n",
    "* table(12, maximum=5)\n",
    "* table(8)\n",
    "* table(maximum=15, nombre=4)\n",
    "* table(7, entier=30)"
   ]
  },
  {
   "cell_type": "markdown",
   "metadata": {},
   "source": [
    "## Question 12\n",
    "\n",
    "Quelle est l'utilité des fonctions lambda par rapport aux fonctions définies par def ?\n",
    "\n",
    "* Elles s'exécutent plus rapidement.\n",
    "* On peut en créer avec une syntaxe très légère.\n",
    "* Elles permettent des fonctionnalités inaccessibles aux fonctions définies par def."
   ]
  },
  {
   "cell_type": "markdown",
   "metadata": {},
   "source": [
    "## Question 13\n",
    "\n",
    "Qu'est-ce qu'un module en Python ?\n",
    "\n",
    "* Un fichier contenant du code Python sans extension particulière.\n",
    "* Un fichier contenant du code Python avec l'extension .py\n",
    "* Un répertoire contenant des fichiers Python."
   ]
  },
  {
   "cell_type": "markdown",
   "metadata": {},
   "source": [
    "## Question 14\n",
    "\n",
    "Si vous entrez l'instruction import azerty, les fonctions du module azerty seront ... ?\n",
    "\n",
    "* Directement accessibles en entrant simplement leur nom.\n",
    "* Accessibles en préfixant leur nom par azerty.\n",
    "* Accessibles en préfixant leur nom par un simple point (\".\")."
   ]
  },
  {
   "cell_type": "markdown",
   "metadata": {},
   "source": [
    "## Question 15\n",
    "\n",
    "En utilisant l'instruction from ... import *, que peut-on importer ?\n",
    "\n",
    "* Seulement des fonctions d'un module\n",
    "* Seulement des modules d'un package\n",
    "* Tout ce que contient un module ou package"
   ]
  },
  {
   "cell_type": "markdown",
   "metadata": {},
   "source": [
    "## Question 16\n",
    "\n",
    "Qu'est-ce qui caractérise, au minimum, un package Python ?\n",
    "\n",
    "* Un répertoire simple\n",
    "* Un répertoire avec, au minimum, un fichier __init__.py dedans\n",
    "* Un répertoire avec un fichier __init__.py et au moins un autre module ou package"
   ]
  },
  {
   "cell_type": "markdown",
   "metadata": {},
   "source": [
    "## Question 17\n",
    "\n",
    "Quels sont les mot-clés minimums pour capturer une exception ?\n",
    "\n",
    "* try et catch\n",
    "* try et except\n",
    "* try et else"
   ]
  },
  {
   "cell_type": "markdown",
   "metadata": {},
   "source": [
    "## Question 18\n",
    "\n",
    "Quel mot-clé est utilisé pour lever une exception ?\n",
    "\n",
    "* throw\n",
    "* raise\n",
    "* try"
   ]
  },
  {
   "cell_type": "markdown",
   "metadata": {},
   "source": [
    "## Question 19\n",
    "\n",
    "Dans quel cas le bloc finally est-il exécuté ?\n",
    "\n",
    "* Quand aucune exception ne se produit dans le bloc try.\n",
    "* Quand une exception se produit dans le bloc try.\n",
    "* Dans tous les cas."
   ]
  },
  {
   "cell_type": "markdown",
   "metadata": {},
   "source": [
    "## Question 20\n",
    "\n",
    "Dans quel cas l'instruction ci-dessous lèvera une exception ?\n",
    "annee = int(entree)\n",
    "\n",
    "* La variable annee n'existe pas.\n",
    "* La variable entree est une chaîne de caractères.\n",
    "* La variable entree ne peut être convertie en nombre."
   ]
  }
 ],
 "metadata": {
  "kernelspec": {
   "display_name": "Python 3",
   "language": "python",
   "name": "python3"
  },
  "language_info": {
   "codemirror_mode": {
    "name": "ipython",
    "version": 3
   },
   "file_extension": ".py",
   "mimetype": "text/x-python",
   "name": "python",
   "nbconvert_exporter": "python",
   "pygments_lexer": "ipython3",
   "version": "3.7.1"
  },
  "pycharm": {
   "stem_cell": {
    "cell_type": "raw",
    "metadata": {
     "collapsed": false
    },
    "source": []
   }
  }
 },
 "nbformat": 4,
 "nbformat_minor": 1
}
