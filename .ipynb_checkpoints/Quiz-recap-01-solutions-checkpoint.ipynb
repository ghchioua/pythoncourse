{
 "cells": [
  {
   "cell_type": "markdown",
   "metadata": {},
   "source": [
    "# Compétences évaluées.\n",
    "\n",
    "Écrire des commandes dans l’interpréteur Python.\n",
    "Boucles et conditions.\n",
    "Fonctions.\n",
    "Modules.\n",
    "Traiter les exceptions et les erreurs.\n"
   ]
  },
  {
   "cell_type": "markdown",
   "metadata": {
    "pycharm": {
     "name": "#%% md\n"
    }
   },
   "source": [
    "## Question 1\n",
    "\n",
    "Après ces instructions, de quel type est la variable c ?"
   ]
  },
  {
   "cell_type": "code",
   "execution_count": 2,
   "metadata": {
    "pycharm": {
     "is_executing": false,
     "name": "#%%\n"
    }
   },
   "outputs": [],
   "source": [
    "a = 8\n",
    "b = 3\n",
    "c = a / b"
   ]
  },
  {
   "cell_type": "markdown",
   "metadata": {
    "pycharm": {
     "name": "#%% md\n"
    }
   },
   "source": [
    "* int (entier)\n",
    "* float (flottant)\n",
    "* str (chaîne de caractères)\n",
    "\n",
    "(réponse 2) Les variables a et b sont toutes les deux entières, mais le résultat de la division de 8 / 3 retourne un nombre flottant (quelque chose comme 2,6666...). En conséquences, c'est le type float (flottant) qui est retourné par Python."
   ]
  },
  {
   "cell_type": "markdown",
   "metadata": {
    "pycharm": {
     "name": "#%% md\n"
    }
   },
   "source": [
    "## Question 2\n",
    "\n",
    "Quelle est la variable de type str (chaîne de caractères) parmi les choix suivants ?\n",
    "\n",
    "* 3\n",
    "* 3.1\n",
    "* \"3\"\n",
    "\n",
    "(réponse 3) Une chaîne de caractères (type str) est identifié par des apostrophes ou guillemets l'entourant. Les deux premiers choix sont des nombres (type int et type float)."
   ]
  },
  {
   "cell_type": "markdown",
   "metadata": {
    "pycharm": {
     "name": "#%% md\n"
    }
   },
   "source": [
    "## Question 3\n",
    "\n",
    "Quelle est la différence entre entrer une variable dans l'interpréteur interactif et utiliser la fonction print ?\n",
    "\n",
    "* Aucune\n",
    "* Dans l'interpréteur interactif, toutes les variables apparaissent entourées de guillemets.\n",
    "* La fonction print est dédiée à l'affichage, l'interpréteur au débuggage.\n",
    "\n",
    "(réponse 3) La fonction print est spécialement dédiée à l'affichage. Si vous exécutez votre programme Python depuis un fichier, entrer directement la variable n'affichera rien. Cependant, l'interpréteur interactif permet d'entrer une variable directement pour afficher son contenu, bien que le résultat obtenu reste différent de la fonction print."
   ]
  },
  {
   "cell_type": "markdown",
   "metadata": {
    "pycharm": {
     "name": "#%% md\n"
    }
   },
   "source": [
    "## Question 4\n",
    "\n",
    "De quoi doit être composée une condition au minimum ?\n",
    "\n",
    "* D'un bloc if\n",
    "* D'un bloc if et elif\n",
    "* D'un bloc if et else\n",
    "\n",
    "(réponse 1) Une condition peut n'être constituée que d'un unique bloc if, sans définir de bloc qui s'exécutera dans le cas où le prédicat n'est pas vérifié.\n",
    "Les blocs else et elif sont donc optionnels."
   ]
  },
  {
   "cell_type": "markdown",
   "metadata": {},
   "source": [
    "## Question 5\n",
    "\n",
    "Considérant les instructions ci-dessous, si variable vaut 2.8, quel va être le résultat obtenu ?"
   ]
  },
  {
   "cell_type": "raw",
   "metadata": {},
   "source": [
    "if variable >= 3:\n",
    "    print(\"1\")\n",
    "elif variable < -1:\n",
    "    print(\"2\")\n",
    "else:\n",
    "    print(\"3\")"
   ]
  },
  {
   "cell_type": "markdown",
   "metadata": {},
   "source": [
    "* Afficher 1.\n",
    "* Afficher 2.\n",
    "* Afficher 3.\n",
    "* N'afficher rien.\n",
    "\n",
    "(réponse 3) Si variable vaut 2.8, le premier prédicat est incorrect (la variable est inférieure à 3). Le second prédicat est également faux (la variable n'est pas inférieure à -1). C'est donc le bloc else qui s'exécute puisque tous les autres ne se sont pas exécutés."
   ]
  },
  {
   "cell_type": "markdown",
   "metadata": {},
   "source": [
    "## Question 6\n",
    "\n",
    "Considérant le prédicat combiné ci-dessous, dans quel cas sera-t-il True (vrai) ?\n",
    "predicat_a and predicat_b\n",
    "\n",
    "* predicat_a est vrai, peu importe predicat_b.\n",
    "* predicat_b est vrai, peu importe predicat_a.\n",
    "* L'un d'eux est vrai, peu importe l'autre.\n",
    "* predicat_a et predicat_b sont tous deux vrais.\n",
    "\n",
    "(réponse 4) Nos deux prédicats (predicat_a et predicat_b) sont combinés par le mot-clé and (et). Ils doivent être tous deux vrais pour que le prédicat combiné soit vrai également.\n"
   ]
  },
  {
   "cell_type": "markdown",
   "metadata": {},
   "source": [
    "## Question 7\n",
    "\n",
    "Comment Python identifie-t-il les instructions formant un bloc (par exemple à l'intérieur d'une condition) ?\n",
    "\n",
    "* Grâce à l'indentation\n",
    "* Grâce aux accolades ({}) entourant le bloc\n",
    "* Grâce aux deux points en début de bloc\n",
    "\n",
    "(réponse 1) Contrairement à de nombreux langages, l'indentation (le décalage de certaines instructions grâce à des espaces ou tabulations) suffit à Python pour identifier un bloc d'instructions. Il a donc besoin d'une indentation cohérente, contrairement à ces mêmes langages qui n'utilisent l'indentation que pour le confort du programmeur.\n"
   ]
  },
  {
   "cell_type": "markdown",
   "metadata": {},
   "source": [
    "## Question 8\n",
    "\n",
    "Quel est l'avantage de la boucle while sur la boucle for ?\n",
    "\n",
    "* Aucun.\n",
    "* Elle est préférable pour parcourir des séquences.\n",
    "* Elle fait la même chose en moins de lignes de code.\n",
    "* Elle crée rarement de boucle infinie.\n",
    "* Elle est plus utile pour vérifier une condition.\n",
    "\n",
    "(réponse 5) La boucle while est moins utilisée en Python que la boucle for, cette dernière étant plus utile pour parcourir des séquences, ce qui rend le second choix faux. Notez que la boucle while peut également parcourir des séquences, bien que le code résultant soit moins intuitif et souvent plus long, ce qui rend le choix suivant faux également. Enfin, il est à noter que la boucle while provoque potentiellement plus de boucles infinies que la boucle for. Elle est en effet utilisée pour vérifier une condition (c'est donc le dernier choix qui est vrai), mais la condition utilisée peut rester vraie indéfiniement si le développeur n'est pas prudent.\n"
   ]
  },
  {
   "cell_type": "markdown",
   "metadata": {},
   "source": [
    "## Question 9\n",
    "\n",
    "Quel est l'avantage de la boucle for sur la boucle while ?\n",
    "\n",
    "* Elle est préférable pour parcourir des séquences.\n",
    "* Elle est plus utile pour vérifier une condition.\n",
    "* C'est l'unique façon de parcourir des séquences.\n",
    "\n",
    "(réponse 1) La boucle for est plus utilisée en Python pour parcourir des séquences, alors que la boucle while est de préférence utilisée pour vérifier une condition. Notez cependant qu'on peut parcourir des séquences avec while dans la grande majorité des cas, même si ce n'est pas le plus intuitif.\n"
   ]
  },
  {
   "cell_type": "markdown",
   "metadata": {},
   "source": [
    "## Question 10\n",
    "\n",
    "Quelle est la différence entre le mot-clé break et continue ?\n",
    "\n",
    "* break interrompt la boucle immédiatement alors que continue passe au prochain tour de boucle.\n",
    "* continue interrompt la boucle immédiatement alors que break passe au prochain tour de boucle.\n",
    "* Les deux mot-clés font exactement la même chose en interrompant la boucle immédiatement.\n",
    "\n",
    "(réponse 1) Le mot-clé break interrompt immédiatement la boucle, alors que le mot-clé continue passe directement au prochain tour de boucle. Ces deux mot-clés ne font donc pas la même chose.\n"
   ]
  },
  {
   "cell_type": "markdown",
   "metadata": {},
   "source": [
    "## Question 11\n",
    "\n",
    "Sachant la définition de fonction ci-dessous, quel est l'appel INVALIDE parmi les choix suivants ?\n",
    "def table(nombre, maximum=10):\n",
    "\n",
    "* table(5, 20)\n",
    "* table(12, maximum=5)\n",
    "* table(8)\n",
    "* table(maximum=15, nombre=4)\n",
    "* table(7, entier=30)\n",
    "\n",
    "(réponse 5) Tous les choix proposés sont des appels valides de la fonction, sauf le dernier choix.\n",
    "\n",
    "* Le premier choix n'utilise que deux paramètres ordonnés (sans les nommer), mais puisqu'il y en a bien deux, la fonction devrait s'exécuter ;\n",
    "* Le second choix utilise les paramètres ordonnés ou nommés indifféremment ;\n",
    "* Le troisième choix ne précise qu'un paramètre, mais le second a une valeur par défaut dans la définition de la fonction ;\n",
    "* Le quatrième choix précise les paramètres dans le désordre, ce qui paraît un peu étrange, mais puisqu'ils sont nommés, tout va bien ;\n",
    "* Le cinquième choix précise un paramètre nommé entier qui n'est pas présent dans la définition de la fonction. Ce choix est donc invalide."
   ]
  },
  {
   "cell_type": "markdown",
   "metadata": {},
   "source": [
    "## Question 12\n",
    "\n",
    "Quelle est l'utilité des fonctions lambda par rapport aux fonctions définies par def ?\n",
    "\n",
    "* Elles s'exécutent plus rapidement.\n",
    "* On peut en créer avec une syntaxe très légère.\n",
    "* Elles permettent des fonctionnalités inaccessibles aux fonctions définies par def.\n",
    "\n",
    "(réponse 2) L'avantage des fonctions lambda est dans leur syntaxe allégée. Elles ne proposent pas de fonctionnalité qu'on ne pourrait utiliser dans une fonction définie par def et ne sont pas plus rapides à s'exécuter (en réalité, elles sont même un peu plus lentes).\n"
   ]
  },
  {
   "cell_type": "markdown",
   "metadata": {},
   "source": [
    "## Question 13\n",
    "\n",
    "Qu'est-ce qu'un module en Python ?\n",
    "\n",
    "* Un fichier contenant du code Python sans extension particulière.\n",
    "* Un fichier contenant du code Python avec l'extension .py\n",
    "* Un répertoire contenant des fichiers Python\n",
    "\n",
    "(réponse 2) Les modules en Python sont de simples fichiers contenant du code Python. Ils doivent cependant avoir l'extension .py pour être reconnus comme des modules par Python.\n"
   ]
  },
  {
   "cell_type": "markdown",
   "metadata": {},
   "source": [
    "## Question 14\n",
    "\n",
    "Si vous entrez l'instruction import azerty, les fonctions du module azerty seront ... ?\n",
    "\n",
    "* Directement accessibles en entrant simplement leur nom.\n",
    "* Accessibles en préfixant leur nom par azerty.\n",
    "* Accessibles en préfixant leur nom par un simple point (\".\").\n",
    "\n",
    "(réponse 2) La syntaxe import azerty crée un nouvel espace de noms, azerty, dans lequel se trouveront les fonctions et données du module. Cela signifie que vous devrez préfixer le nom des fonctions et données du module par azerty. dans le code important ce module avec cette syntaxe.\n"
   ]
  },
  {
   "cell_type": "markdown",
   "metadata": {},
   "source": [
    "## Question 15\n",
    "\n",
    "En utilisant l'instruction from ... import *, que peut-on importer ?\n",
    "\n",
    "* Seulement des fonctions d'un module\n",
    "* Seulement des modules d'un package\n",
    "* Tout ce que contient un module ou package\n",
    "\n",
    "(réponse 3) La syntaxe from ... import * permet d'importer tout ce que contient un module ou package : ce peut être d'autres modules, d'autres packages, des variables, fonctions ou d'autres données qui seront abordées plus loin dans ce cours.\n"
   ]
  },
  {
   "cell_type": "markdown",
   "metadata": {},
   "source": [
    "## Question 16\n",
    "\n",
    "Qu'est-ce qui caractérise, au minimum, un package Python ?\n",
    "\n",
    "* Un répertoire simple\n",
    "* Un répertoire avec, au minimum, un fichier __init__.py dedans\n",
    "* Un répertoire avec un fichier __init__.py et au moins un autre module ou package\n",
    "\n",
    "(réponse 1) Dans les versions de Python 3.3 et ultérieures, le fichier __init__.py qui contient du code d'initialisation du package est devenu facultatif. Un simple répertoire suffit, tant qu'il se conforme aux noms autorisés par Python. Notez qu'un package peut être complètement vide (sans aucun autre package ou module), même si, en pratique, il est rare d'en trouver un.\n"
   ]
  },
  {
   "cell_type": "markdown",
   "metadata": {},
   "source": [
    "## Question 17\n",
    "\n",
    "Quels sont les mot-clés minimums pour capturer une exception ?\n",
    "\n",
    "* try et catch\n",
    "* try et except\n",
    "* try et else\n",
    "\n",
    "(réponse 2) En Python, un bloc try doit avoir une répartie except qui dit à Python quoi faire si le code contenu dans le bloc try lève une exception. Le mot-clé catch n'existe pas en Python. Quant au mot-clé else, il est facultatif.\n",
    "Notez qu'on peut théoriquement former un bloc try qu'avec une répartie finally, bien qu'en pratique ce soit assez rare.\n"
   ]
  },
  {
   "cell_type": "markdown",
   "metadata": {},
   "source": [
    "## Question 18\n",
    "\n",
    "Quel mot-clé est utilisé pour lever une exception ?\n",
    "\n",
    "* throw\n",
    "* raise\n",
    "* try\n",
    "\n",
    "(réponse 2) Pour lever une exception en Python, on utilise le mot-clé raise. Le mot-clé throw n'existe pas en Python, tandis que le mot-clé try est utilisé pour essayer un bloc d'instructions (pour récupérer ses exceptions éventuelles), pas pour lever des exceptions.\n"
   ]
  },
  {
   "cell_type": "markdown",
   "metadata": {},
   "source": [
    "## Question 19\n",
    "\n",
    "Dans quel cas le bloc finally est-il exécuté ?\n",
    "\n",
    "* Quand aucune exception ne se produit dans le bloc try.\n",
    "* Quand une exception se produit dans le bloc try.\n",
    "* Dans tous les cas.\n",
    "\n",
    "(réponse 3) Le bloc finally s'exécute dans tous les cas, que le bloc try ait levé une exception ou non. Faites bien la différence avec le bloc else, qui ne s'exécute que dans le cas où il n'y a eu aucune exception de levée. ",
    " ",
    " ",
    " ",
    "\n"
   ]
  },
  {
   "cell_type": "markdown",
   "metadata": {},
   "source": [
    "## Question 20\n",
    "\n",
    "Dans quel cas l'instruction ci-dessous lèvera une exception ?\n",
    "annee = int(entree)\n",
    "\n",
    "* La variable annee n'existe pas.\n",
    "* La variable entree est une chaîne de caractères.\n",
    "* La variable entree ne peut être convertie en nombre.\n",
    "\n",
    "(réponse 3) Cette ligne d'instruction lèvera une exception dans le cas où la variable entree ne peut être convertie en nombre. L'existence (ou l'inexistence) de la variable annee n'importe pas ici, puisqu'on cherche à écrire dans cette variable, pas lire dedans. Enfin, la variable entree peut très bien être une chaîne de caractères, tant qu'elle peut être convertie."
   ]
  }
 ],
 "metadata": {
  "kernelspec": {
   "display_name": "Python 3",
   "language": "python",
   "name": "python3"
  },
  "language_info": {
   "codemirror_mode": {
    "name": "ipython",
    "version": 3
   },
   "file_extension": ".py",
   "mimetype": "text/x-python",
   "name": "python",
   "nbconvert_exporter": "python",
   "pygments_lexer": "ipython3",
   "version": "3.7.1"
  },
  "pycharm": {
   "stem_cell": {
    "cell_type": "raw",
    "metadata": {
     "collapsed": false
    },
    "source": []
   }
  }
 },
 "nbformat": 4,
 "nbformat_minor": 1
}
