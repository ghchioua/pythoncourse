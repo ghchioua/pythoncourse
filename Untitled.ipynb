{
 "cells": [
  {
   "cell_type": "markdown",
   "metadata": {},
   "source": [
    "# Pour la petite histoire\n",
    "\n",
    "Python est un langage de programmation, dont la première version est sortie en 1991. Créé par Guido van Rossum, il a voyagé du Macintosh de son créateur, qui travaillait à cette époque au Centrum voor Wiskunde en Informatica aux Pays-Bas, jusqu'à se voir associer une organisation à but non lucratif particulièrement dévouée, la Python Software Foundation, créée en 2001. Ce langage a été baptisé ainsi en hommage à la troupe de comiques les « Monty Python ».\n",
    "À quoi peut servir Python ?\n",
    "Python est un langage puissant, à la fois facile à apprendre et riche en possibilités. Dès l'instant où vous l'installez sur votre ordinateur, vous disposez de nombreuses fonctionnalités intégrées au langage que nous allons découvrir tout au long de ce livre.\n",
    "Il est, en outre, très facile d'étendre les fonctionnalités existantes, comme nous allons le voir. Ainsi, il existe ce qu'on appelle des bibliothèques qui aident le développeur à travailler sur des projets particuliers. Plusieurs bibliothèques peuvent ainsi être installées pour, par exemple, développer des interfaces graphiques en Python.\n",
    "\n",
    "Concrètement, voilà ce qu'on peut faire avec Python :\n",
    "\n",
    "* de petits programmes très simples, appelés scripts, chargés d'une mission très précise sur votre ordinateur ; ",
    "\n",
    "* des programmes complets, comme des jeux, des suites bureautiques, des logiciels multimédias, des clients de messagerie…\n",
    "* des projets très complexes, comme des progiciels (ensemble de plusieurs logiciels pouvant fonctionner ensemble, principalement utilisés dans le monde professionnel).\n",
    "\n",
    "Voici quelques-unes des fonctionnalités offertes par Python et ses bibliothèques :\n",
    "\n",
    "* créer des interfaces graphiques\n",
    "* faire circuler des informations au travers d'un réseau\n",
    "* dialoguer d'une façon avancée avec votre système d'exploitation\n",
    "\n",
    "Bien entendu, vous n'allez pas apprendre à faire tout cela en quelques minutes. Mais ce cours vous donnera des bases suffisamment larges pour développer des projets qui pourront devenir, par la suite, assez importants.\n"
   ]
  },
  {
   "cell_type": "markdown",
   "metadata": {},
   "source": [
    "## Un langage de programmation interprété\n",
    "\n",
    "Python est un langage de programmation interprété, c'est-à-dire que les instructions que vous lui envoyez sont « transcrites » en langage machine au fur et à mesure de leur lecture. D'autres langages (comme le C / C++) sont appelés « langages compilés » car, avant de pouvoir les exécuter, un logiciel spécialisé se charge de transformer le code du programme en langage machine. On appelle cette étape la « compilation ». À chaque modification du code, il faut rappeler une étape de compilation.\n",
    "\n",
    "Les avantages d'un langage interprété sont la simplicité (on ne passe pas par une étape de compilation avant d'exécuter son programme) et la portabilité (un langage tel que Python est censé fonctionner aussi bien sous Windows que sous Linux ou Mac OS, et on ne devrait avoir à effectuer aucun changement dans le code pour le passer d'un système à l'autre). Cela ne veut pas dire que les langages compilés ne sont pas portables, loin de là ! Mais on doit utiliser des compilateurs différents et, d'un système à l'autre, certaines instructions ne sont pas compatibles, voire se comportent différemment.\n",
    "\n",
    "En contrepartie, un langage compilé se révélera bien plus rapide qu'un langage interprété (la traduction à la volée de votre programme ralentit l'exécution), bien que cette différence tende à se faire de moins en moins sentir au fil des améliorations. De plus, il faudra installer Python sur le système d'exploitation que vous utilisez pour que l'ordinateur puisse comprendre votre code."
   ]
  },
  {
   "cell_type": "markdown",
   "metadata": {},
   "source": [
    "## Différentes versions de Python\n",
    "\n",
    "Lors de la création de la Python Software Foundation, en 2001, et durant les années qui ont suivi, le langage Python est passé par une suite de versions que l'on a englobées dans l'appellation Python 2.x (2.3, 2.5, 2.6…). Depuis le 13 février 2009, la version 3.0.1 est disponible. Cette version casse la compatibilité ascendante qui prévalait lors des dernières versions. Nous sommes actuellement à la version 3.9.0.\n",
    "\n",
    "**Compatibilité ?**\n",
    "\n",
    "Quand un langage de programmation est mis à jour, les développeurs se gardent bien de supprimer ou de trop modifier d'anciennes fonctionnalités. L'intérêt est qu'un programme qui fonctionne sous une certaine version marchera toujours avec la nouvelle version en date. Cependant, la Python Software Foundation, observant un bon nombre de fonctionnalités obsolètes, mises en œuvre plusieurs fois… a décidé de nettoyer tout le projet. Un programme qui tourne à la perfection sous Python 2.x devra donc être mis à jour un minimum pour fonctionner de nouveau sous Python 3. C'est pourquoi je vais vous conseiller ultérieurement de télécharger et d'installer la dernière version en date de Python. Je m'attarderai en effet sur les fonctionnalités de Python 3 et certaines d'entre elles ne seront pas accessibles (ou pas sous le même nom) dans les anciennes versions."
   ]
  },
  {
   "cell_type": "markdown",
   "metadata": {},
   "source": [
    "## En résumé\n",
    "\n",
    "* Python est un langage de programmation interprété, à ne pas confondre avec un langage compilé. ",
    "\n",
    "* Il permet de créer toutes sortes de programmes, comme des jeux, des logiciels, des progiciels, etc. ",
    "\n",
    "* Il est possible d'associer des bibliothèques à Python afin d'étendre ses possibilités. ",
    "\n",
    "* Il est portable, c'est à dire qu'il peut fonctionner sous différents systèmes d'exploitation (Windows, Linux, Mac OS X,…)."
   ]
  },
  {
   "cell_type": "markdown",
   "metadata": {},
   "source": [
    "# Premiers pas avec l'interpréteur de commandes Python\n",
    "\n",
    "Souvenez-vous, au chapitre précédent, je vous ai donné une brève explication sur la différence entre langages compilés et langages interprétés. Eh bien, cet interpréteur de commandes va nous permettre de tester directement du code. Je saisis une ligne d'instructions, j'appuie sur la touche Entrée de mon clavier, je regarde ce que me répond Python (s'il me dit quelque chose), puis j'en saisis une deuxième, une troisième… Cet interpréteur est particulièrement utile pour comprendre les bases de Python et réaliser nos premiers petits programmes. Le principal inconvénient, c'est que le code que vous saisissez n'est pas sauvegardé (sauf si vous l'enregistrez manuellement, mais chaque chose en son temps).\n",
    "Dans la fenêtre que vous avez sous les yeux, l'information qui ne change pas d'un système d'exploitation à l'autre est la série de trois chevrons qui se trouve en bas à gauche des informations :>>>. Ces trois signes signifient : « je suis prêt à recevoir tes instructions ».\n",
    "Comme je l'ai dit, les langages de programmation respectent une syntaxe claire. Vous ne pouvez pas espérer que l'ordinateur comprenne si, dans cette fenêtre, vous commencez par lui demander : « j'aimerais que tu me codes un jeu vidéo génial ». Et autant que vous le sachiez tout de suite (bien qu'à mon avis, vous vous en doutiez), on est très loin d'obtenir des résultats aussi spectaculaires à notre niveau.\n",
    "Tout cela pour dire que, si vous saisissez n'importe quoi dans cette fenêtre, la probabilité est grande que Python vous indique, clairement et fermement, qu'il n'a rien compris.\n",
    "\n",
    "Si, par exemple, vous saisissez « premier test avec Python », vous obtenez le résultat suivant :"
   ]
  },
  {
   "cell_type": "code",
   "execution_count": 2,
   "metadata": {},
   "outputs": [
    {
     "ename": "SyntaxError",
     "evalue": "invalid syntax (<ipython-input-2-273c0f4b764b>, line 1)",
     "output_type": "error",
     "traceback": [
      "\u001b[0;36m  File \u001b[0;32m\"<ipython-input-2-273c0f4b764b>\"\u001b[0;36m, line \u001b[0;32m1\u001b[0m\n\u001b[0;31m    premier test avec Python\u001b[0m\n\u001b[0m               ^\u001b[0m\n\u001b[0;31mSyntaxError\u001b[0m\u001b[0;31m:\u001b[0m invalid syntax\n"
     ]
    }
   ],
   "source": [
    "premier test avec Python"
   ]
  },
  {
   "cell_type": "markdown",
   "metadata": {},
   "source": [
    "L'interpréteur parle en anglais et les instructions que vous saisirez, comme pour l'écrasante majorité des langages de programmation, seront également en anglais. Mais pour l'instant, rien de bien compliqué : l'interpréteur vous indique qu'il a trouvé un problème dans votre ligne d'instruction. Il vous indique le numéro de la ligne (en l'occurrence la première), qu'il vous répète obligeamment (ceci est très utile quand on travaille sur un programme de plusieurs centaines de lignes). Puis il vous dit ce qui l'arrête, ici :SyntaxError: invalid syntax. \n",
    "\n",
    "Maintenant que nous avons vu un erreur, voyons un peu ce qui fonctionne."
   ]
  },
  {
   "cell_type": "markdown",
   "metadata": {},
   "source": [
    "## Vos premières instructions : un peu de calcul mental pour l'ordinateur\n",
    "\n",
    "C'est assez trivial, quand on y pense, mais je trouve qu'il s'agit d'une excellente manière d'aborder pas à pas la syntaxe de Python. Nous allons donc essayer d'obtenir les résultats de calculs plus ou moins compliqués. Je vous rappelle encore une fois qu'exécuter les tests en même temps que moi sur votre machine est une très bonne façon de vous rendre compte de la syntaxe et surtout, de la retenir.\n",
    "\n",
    "Saisir un nombre\n",
    "Vous avez pu voir sur notre premier (et à ce jour notre dernier) test que Python n'aimait pas particulièrement les suites de lettres qu'il ne comprend pas. Par contre, l'interpréteur adore les nombres. D'ailleurs, il les accepte sans sourciller, sans une seule erreur :"
   ]
  },
  {
   "cell_type": "code",
   "execution_count": null,
   "metadata": {},
   "outputs": [],
   "source": [
    "7"
   ]
  },
  {
   "cell_type": "markdown",
   "metadata": {},
   "source": [
    "On saisit un nombre et l'interpréteur le renvoie.\n",
    "Mais dans bien des cas, ce simple retour indique que l'interpréteur a bien compris et que votre saisie est en accord avec sa syntaxe. De même, vous pouvez saisir des nombres à virgul\n"
   ]
  },
  {
   "cell_type": "code",
   "execution_count": null,
   "metadata": {},
   "outputs": [],
   "source": [
    "9.5"
   ]
  },
  {
   "cell_type": "markdown",
   "metadata": {},
   "source": [
    "Attention : on utilise ici la notation anglo-saxonne, c'est-à-dire que le point remplace la virgule. La virgule a un tout autre sens pour Python, prenez donc cette habitude dès maintenant.\n",
    "Il va de soi que l'on peut tout aussi bien saisir des nombres négatifs (vous pouvez d'ailleurs faire l'essai).\n",
    "Opérations courantes\n",
    "Bon, il est temps d'apprendre à utiliser les principaux opérateurs de Python, qui vont vous servir pour la grande majorité de vos programmes.\n",
    "Addition, soustraction, multiplication, division\n",
    "Pour effectuer ces opérations, on utilise respectivement les symboles +, -, * et /."
   ]
  },
  {
   "cell_type": "code",
   "execution_count": 3,
   "metadata": {},
   "outputs": [
    {
     "data": {
      "text/plain": [
       "7"
      ]
     },
     "execution_count": 3,
     "metadata": {},
     "output_type": "execute_result"
    }
   ],
   "source": [
    "3 + 4"
   ]
  },
  {
   "cell_type": "code",
   "execution_count": 4,
   "metadata": {},
   "outputs": [
    {
     "data": {
      "text/plain": [
       "91"
      ]
     },
     "execution_count": 4,
     "metadata": {},
     "output_type": "execute_result"
    }
   ],
   "source": [
    "-2 + 93"
   ]
  },
  {
   "cell_type": "code",
   "execution_count": 5,
   "metadata": {},
   "outputs": [
    {
     "data": {
      "text/plain": [
       "11.5"
      ]
     },
     "execution_count": 5,
     "metadata": {},
     "output_type": "execute_result"
    }
   ],
   "source": [
    "9.5 + 2"
   ]
  },
  {
   "cell_type": "code",
   "execution_count": 6,
   "metadata": {},
   "outputs": [
    {
     "data": {
      "text/plain": [
       "5.1899999999999995"
      ]
     },
     "execution_count": 6,
     "metadata": {},
     "output_type": "execute_result"
    }
   ],
   "source": [
    "3.11 + 2.08"
   ]
  },
  {
   "cell_type": "markdown",
   "metadata": {},
   "source": [
    "Pourquoi ce dernier résultat approximatif ?\n",
    "\n",
    "Python n'y est pas pour grand chose. En fait, le problème vient en grande partie de la façon dont les nombres à virgule sont écrits dans la mémoire de ",
    "votre ordinateur. C'est pourquoi, en programmation, on préfère travailler autant que possible avec des nombres entiers. Cependant, vous remarquerez que l'erreur ",
    "est infime et qu'elle n'aura pas de réel impact sur les calculs. Les applications qui ont besoin d'une précision mathématique à toute épreuve essayent de pallier ces défauts par d'autres moyens mais ici, ce ne sera pas nécessaire.\n",
    "Faites également des tests pour la soustraction, la multiplication et la division : il n'y a rien de difficile.\n",
    "Division entière et modulo\n",
    "Si vous avez pris le temps de tester la division, vous vous êtes rendu compte que le résultat est donné avec une virgule flottante."
   ]
  },
  {
   "cell_type": "code",
   "execution_count": null,
   "metadata": {},
   "outputs": [],
   "source": [
    "10 / 5"
   ]
  },
  {
   "cell_type": "code",
   "execution_count": null,
   "metadata": {},
   "outputs": [],
   "source": [
    "10 / 3"
   ]
  },
  {
   "cell_type": "markdown",
   "metadata": {},
   "source": [
    "Il existe deux autres opérateurs qui permettent de connaître le résultat d'une division entière et le reste de cette division.\n",
    "Le premier opérateur utilise le symbole « // ». Il permet d'obtenir la partie entière d'une division."
   ]
  },
  {
   "cell_type": "code",
   "execution_count": null,
   "metadata": {},
   "outputs": [],
   "source": [
    "10 // 3"
   ]
  },
  {
   "cell_type": "markdown",
   "metadata": {},
   "source": [
    "L'opérateur « % », que l'on appelle le « modulo », permet de connaître le reste de la division."
   ]
  },
  {
   "cell_type": "code",
   "execution_count": 7,
   "metadata": {},
   "outputs": [
    {
     "data": {
      "text/plain": [
       "1"
      ]
     },
     "execution_count": 7,
     "metadata": {},
     "output_type": "execute_result"
    }
   ],
   "source": [
    "10%3"
   ]
  },
  {
   "cell_type": "markdown",
   "metadata": {},
   "source": [
    "Ces notions de partie entière et de reste de division ne sont pas bien difficiles à comprendre et vous serviront très probablement par la suite.\n",
    "\n",
    "Si vous avez du mal à en saisir le sens, sachez donc que :\n",
    "\n",
    "* La partie entière de la division de 10 par 3 est le résultat de cette division, sans tenir compte des chiffres au-delà de la virgule (en l'occurrence, 3).\n",
    "* Pour obtenir le modulo d'une division, on « récupère » son reste. Dans notre exemple, 10/3 = 3 et il reste 1. Une fois que l'on a compris cela, ce n'est pas bien compliqué.\n",
    "\n",
    "Souvenez-vous bien de ces deux opérateurs, et surtout du modulo « % », dont vous aurez besoin dans vos programmes futurs."
   ]
  },
  {
   "cell_type": "markdown",
   "metadata": {},
   "source": [
    "## En résumé\n",
    "\n",
    "L'interpréteur de commandes Python permet de tester du code au fur et à mesure qu'on l'écrit.\n",
    "L'interpréteur Python accepte des nombres et est capable d'effectuer des calculs.\n",
    "Un nombre décimal s'écrit avec un point et non une virgule.\n",
    "\n",
    "Les calculs impliquant des nombres décimaux donnent parfois des résultats approximatifs, c'est pourquoi on préfèrera, dans la mesure du possible, travailler avec des nombres entiers.\n"
   ]
  },
  {
   "cell_type": "markdown",
   "metadata": {},
   "source": [
    "# C'est quoi, une variable ? Et à quoi cela sert-il ?\n",
    "\n",
    "Les variables sont l'un des concepts qui se retrouvent dans la majorité (et même, en l'occurrence, la totalité) des langages de programmation. Autant dire que sans variable, on ne peut pas programmer, et ce n'est pas une exagération."
   ]
  },
  {
   "cell_type": "markdown",
   "metadata": {},
   "source": [
    "## C'est quoi, une variable ?\n",
    "\n",
    "Une variable est une donnée de votre programme, stockée dans votre ordinateur. C'est un code alpha-numérique que vous allez lier à une donnée de votre programme, afin de pouvoir l'utiliser à plusieurs reprises et faire des calculs un peu plus intéressants avec. C'est bien joli de savoir faire des opérations mais, si on ne peut pas stocker le résultat quelque part, cela devient très vite ennuyeux.\n",
    "Voyez la mémoire de votre ordinateur comme une grosse armoire avec plein de tiroirs. Chaque tiroir peut contenir une donnée ; certaines de ces données seront des variables de votre programme."
   ]
  },
  {
   "cell_type": "markdown",
   "metadata": {},
   "source": [
    "## Comment cela fonctionne-t-il ?\n",
    "\n",
    "Le plus simplement du monde. Vous allez dire à Python : « je veux que, dans une variable que je nommeage, tu stockes mon âge, pour que je puisse le retenir (si j'ai la mémoire très courte), l'augmenter (à mon anniversaire) et l'afficher si besoin est ».\n",
    "\n",
    "Comme je vous l'ai dit, on ne peut pas passer à côté des variables. Vous ne voyez peut-être pas encore tout l'intérêt de stocker des informations de votre programme et pourtant, si vous ne stockez rien, vous ne pouvez pratiquement rien faire.\n",
    "\n",
    "En Python, pour donner une valeur à une variable, il suffit d'écrirenom_de_la_variable = valeur.\n",
    "\n",
    "Une variable doit respecter quelques règles de syntaxe incontournables :\n",
    "\n",
    "* Le nom de la variable ne peut être composé que de lettres, majuscules ou minuscules, de chiffres et du symbole souligné « _ » (appelé underscore en anglais).\n",
    "* Le nom de la variable ne peut pas commencer par un chiffre.\n",
    "* Le langage Python est sensible à la casse, ce qui signifie que des lettres majuscules et minuscules ne constituent pas la même variable (la variableAGEest différente deaGe, elle-même différente deage).\n",
    "\n",
    "Au-delà de ces règles de syntaxe incontournables, il existe des conventions définies par les programmeurs eux-mêmes. L'une d'elles, que j'ai tendance à utiliser assez souvent, consiste à écrire la variable en minuscules et à remplacer les espaces éventuels par un espace souligné « _ ». Si je dois créer une variable contenant mon âge, elle se nommera doncmon_age. Une autre convention utilisée consiste à passer en majuscule le premier caractère de chaque mot, à l'exception du premier mot constituant la variable. La variable contenant mon âge se nommerait alorsmonAge.\n",
    "Vous pouvez utiliser la convention qui vous plaît, ou même en créer une bien à vous, mais essayez de rester cohérent et de n'utiliser qu'une seule convention d'écriture. En effet, il est essentiel de pouvoir vous repérer dans vos variables dès que vous commencez à travailler sur des programmes volumineux.\n",
    "\n",
    "Ainsi, si je veux associer mon âge à une variable, la syntaxe sera :"
   ]
  },
  {
   "cell_type": "code",
   "execution_count": 20,
   "metadata": {},
   "outputs": [],
   "source": [
    "mon_age = 34"
   ]
  },
  {
   "cell_type": "markdown",
   "metadata": {},
   "source": [
    "Sachez qu'on appelle cette étape l'affectation de valeur à une variable (parfois raccourci en « affectation de variable »). On dit en effet qu'on a affecté la valeur 21 à la variablemon_age.\n",
    "\n",
    "On peut afficher la valeur de cette variable en la saisissant simplement dans l'interpréteur de commandes."
   ]
  },
  {
   "cell_type": "code",
   "execution_count": 21,
   "metadata": {},
   "outputs": [
    {
     "data": {
      "text/plain": [
       "34"
      ]
     },
     "execution_count": 21,
     "metadata": {},
     "output_type": "execute_result"
    }
   ],
   "source": [
    "mon_age"
   ]
  },
  {
   "cell_type": "markdown",
   "metadata": {},
   "source": [
    "Les espaces séparant « = » du nom et de la valeur de la variable sont facultatifs. Je les mets pour des raisons de lisibilité.\n",
    "Bon, c'est bien joli tout cela, mais qu'est-ce qu'on fait avec cette variable ?\n",
    "Eh bien, tout ce que vous avez déjà fait au chapitre précédent, mais cette fois en utilisant la variable comme un nombre à part entière. Vous pouvez même affecter à d'autres variables des valeurs obtenues en effectuant des calculs sur la première et c'est là toute la puissance de ce mécanisme.\n",
    "\n",
    "Essayons par exemple d'augmenter de 2 la variable mon_age."
   ]
  },
  {
   "cell_type": "code",
   "execution_count": 22,
   "metadata": {},
   "outputs": [],
   "source": [
    "mon_age = mon_age + 2"
   ]
  },
  {
   "cell_type": "code",
   "execution_count": 23,
   "metadata": {},
   "outputs": [
    {
     "data": {
      "text/plain": [
       "36"
      ]
     },
     "execution_count": 23,
     "metadata": {},
     "output_type": "execute_result"
    }
   ],
   "source": [
    "mon_age"
   ]
  },
  {
   "cell_type": "markdown",
   "metadata": {},
   "source": [
    "Encore une fois, lors de l'affectation de la valeur, rien ne s'affiche, ce qui est parfaitement normal.\n",
    "Maintenant, essayons d'affecter une valeur à une autre variable d'après la valeur demon_age."
   ]
  },
  {
   "cell_type": "code",
   "execution_count": null,
   "metadata": {},
   "outputs": [],
   "source": [
    "mon_age_x2 = mon_age * 2"
   ]
  },
  {
   "cell_type": "code",
   "execution_count": null,
   "metadata": {},
   "outputs": [],
   "source": [
    "mon_age_x2"
   ]
  },
  {
   "cell_type": "markdown",
   "metadata": {},
   "source": [
    "Encore une fois, je vous invite à tester en long, en large et en travers cette possibilité. Le concept n'est pas compliqué mais extrêmement puissant. De plus, comparé à certains langages, affecter une valeur à une variable est extrêmement simple. Si la variable n'est pas créée, Python s'en charge automatiquement. Si la variable existe déjà, l'ancienne valeur est supprimée et remplacée par la nouvelle. Quoi de plus simple ?\n",
    "Certains mots-clés de Python sont réservés, c'est-à-dire que vous ne pouvez pas créer des variables portant ce nom.\n",
    "\n",
    "En voici la liste pour Python 3 :\n",
    "\n",
    "and\n",
    "del\n",
    "from\n",
    "none\n",
    "true\n",
    "as\n",
    "elif\n",
    "global\n",
    "nonlocal\n",
    "try\n",
    "assert\n",
    "else\n",
    "if\n",
    "not\n",
    "while\n",
    "break\n",
    "except\n",
    "import\n",
    "or\n",
    "with\n",
    "class\n",
    "false\n",
    "in\n",
    "pass\n",
    "yield\n",
    "continue\n",
    "finally\n",
    "is\n",
    "raise\n",
    "def\n",
    "for\n",
    "lambda\n",
    "return\n",
    " \n",
    "Ces mots-clés sont utilisés par Python, vous ne pouvez pas construire de variables portant ces noms. Vous allez découvrir dans la suite de ce cours la majorité de ces mots-clés et comment ils s'utilisent.\n",
    "Les types de données en Python\n",
    "\n",
    "Là se trouve un concept très important, que l'on retrouve dans beaucoup de langages de programmation. Ouvrez grand vos oreilles, ou plutôt vos yeux, car vous devrez être parfaitement à l'aise avec ce concept pour continuer la lecture de ce livre. Rassurez-vous toutefois, du moment que vous êtes attentifs, il n'y a rien de compliqué à comprendre.\n",
    "\n",
    "Qu'entend-on par « type de donnée » ?\n",
    "\n",
    "Jusqu'ici, vous n'avez travaillé qu'avec des nombres. Et, s'il faut bien avouer qu'on ne fera que très rarement un programme sans aucun nombre, c'est loin d'être la seule donnée que l'on peut utiliser en Python. À terme, vous serez même capables de créer vos propres types de données, mais n'anticipons pas.\n",
    "Python a besoin de connaître quels types de données sont utilisés pour savoir quelles opérations il peut effectuer avec. Dans ce chapitre, vous allez apprendre à travailler avec des chaînes de caractères, et multiplier une chaîne de caractères ne se fait pas du tout comme la multiplication d'un nombre. Pour certains types de données, la multiplication n'a d'ailleurs aucun sens. Python associe donc à chaque donnée un type, qui va définir les opérations autorisées sur cette donnée en particulier.\n",
    "Les différents types de données\n",
    "Nous n'allons voir ici que les incontournables et les plus faciles à manier. Des chapitres entiers seront consacrés aux types plus complexes.\n",
    "Les nombres entiers\n",
    "Et oui, Python différencie les entiers des nombres à virgule flottante !\n",
    "Pourquoi cela ?\n",
    "Initialement, c'est surtout pour une question de place en mémoire mais, pour un ordinateur, les opérations que l'on effectue sur des nombres à virgule ne sont pas les mêmes que celles sur les entiers, et cette distinction reste encore d'actualité de nos jours.\n",
    "Le type entier se nommeinten Python (qui correspond à l'anglais « integer », c'est-à-dire entier). La forme d'un entier est un nombre sans virgule.\n",
    "\n",
    "3\n",
    "Nous avons vu au chapitre précédent les opérations que l'on pouvait effectuer sur ce type de données et, même si vous ne vous en souvenez pas, les deviner est assez élémentaire.\n",
    "Les nombres flottants\n",
    "Les flottants sont les nombres à virgule. Ils se nommentfloaten Python (ce qui signifie « flottant » en anglais). La syntaxe d'un nombre flottant est celle d'un nombre à virgule (n'oubliez pas de remplacer la virgule par un point). Si ce nombre n'a pas de partie flottante mais que vous voulez qu'il soit considéré par le système comme un flottant, vous pouvez lui ajouter une partie flottante de 0 (exemple 52.0).\n",
    "\n",
    "3.152\n",
    "Les nombres après la virgule ne sont pas infinis, puisque rien n'est infini en informatique. Mais la précision est assez importante pour travailler sur des données très fines.\n",
    "Les chaînes de caractères\n",
    "Heureusement, les types de données disponibles en Python ne sont pas limités aux seuls nombres, bien loin de là. Le dernier type « simple » que nous verrons dans ce chapitre est la chaîne de caractères. Ce type de donnée permet de stocker une série de lettres, pourquoi pas une phrase.\n",
    "On peut écrire une chaîne de caractères de différentes façons :\n",
    "entre guillemets (\"ceci est une chaîne de caractères\") ; ",
    "\n",
    "entre apostrophes ('ceci est une chaîne de caractères') ; ",
    "\n",
    "entre triples guillemets (\"\"\"ceci est une chaîne de caractères\"\"\"). ",
    "\n",
    "On peut, à l'instar des nombres (et de tous les types de données) stocker une chaîne de caractères dans une variable (ma_chaine = \"Bonjour, la foule !\")\n",
    "Si vous utilisez les délimiteurs simples (le guillemet ou l'apostrophe) pour encadrer une chaîne de caractères, il se pose le problème des guillemets ou apostrophes que peut contenir ladite chaîne. Par exemple, si vous tapezchaine = 'J'aime le Python!', vous obtenez le message suivant :\n",
    "File \"<stdin>\", line 1\n",
    "chaine = 'J'aime le Python!'\n",
    "^\n",
    "SyntaxError: invalid syntax\n",
    "Ceci est dû au fait que l'apostrophe de « J'aime » est considérée par Python comme la fin de la chaîne et qu'il ne sait pas quoi faire de tout ce qui se trouve au-delà. ",
    "Pour pallier ce problème, il faut échapper les apostrophes se trouvant au cœur de la chaîne. On insère ainsi un caractère anti-slash « \\ » avant les apostrophes contenues dans le message.\n",
    "\n",
    "chaine = 'J\\'aime le Python!'\n",
    "On doit également échapper les guillemets si on utilise les guillemets comme délimiteurs.\n",
    "\n",
    "chaine2 = \"\\\"Le seul individu formé, c'est celui qui a appris comment apprendre (...)\\\" (Karl Rogers, 1976)\"\n",
    "Le caractère d'échappement « \\ » est utilisé pour créer d'autres signes très utiles. Ainsi, « \\n » symbolise un saut de ligne (\"essai\\nsur\\nplusieurs\\nlignes\"). Pour écrire un véritable anti-slash dans une chaîne, il faut l'échapper lui-même (et donc écrire « \\\\ »).\n",
    "L'interpréteur affiche les sauts de lignes comme on les saisit, c'est-à-dire sous forme de « \\n ». Nous verrons dans la partie suivante comment afficher réellement ces chaînes de caractères et pourquoi l'interpréteur ne les affiche pas comme il le devrait.\n",
    "Utiliser les triples guillemets pour encadrer une chaîne de caractères dispense d'échapper les guillemets et apostrophes, et permet d'écrire plusieurs lignes sans symboliser les retours à la ligne au moyen de « \\n ».\n",
    "\n",
    ">>> chaine3 = \"\"\"Ceci est un nouvel\n",
    "\n",
    "... essai sur plusieurs\n",
    "\n",
    "... lignes\"\"\"\n",
    "\n",
    ">>>\n",
    "Notez que les trois chevrons sont remplacés par trois points : cela signifie que l'interpréteur considère que vous n'avez pas fini d'écrire cette instruction. En effet, celle-ci ne s'achève qu'une fois la chaîne refermée avec trois nouveaux guillemets. Les sauts de lignes seront automatiquement remplacés, dans la chaîne, par des « \\n ».\n",
    "Vous pouvez utiliser, à la place des trois guillemets, trois apostrophes qui jouent exactement le même rôle. Je n'utilise personnellement pas ces délimiteurs, mais sachez qu'ils existent et ne soyez pas surpris si vous les voyez un jour dans un code source.\n",
    "Voilà, nous avons bouclé le rapide tour d'horizon des types simples. Qualifier les chaînes de caractères de type simple n'est pas strictement vrai mais nous n'allons pas, dans ce chapitre, entrer dans le détail des opérations que l'on peut effectuer sur ces chaînes. C'est inutile pour l'instant et ce serait hors sujet. Cependant, rien ne vous empêche de tester vous mêmes quelques opérations comme l'addition et la multiplication (dans le pire des cas, Python vous dira qu'il ne peut pas faire ce que vous lui demandez et, comme nous l'avons vu, il est peu rancunier).\n",
    "Un petit bonus\n",
    "Au chapitre précédent, nous avons vu les opérateurs « classiques » pour manipuler des nombres mais aussi, comme on le verra plus tard, d'autres types de données. D'autres opérateurs ont été créés afin de simplifier la manipulation des variables.\n",
    "Vous serez amenés par la suite, et assez régulièrement, à incrémenter des variables. L'incrémentation désigne l'augmentation de la valeur d'une variable d'un certain nombre. Jusqu'ici, j'ai procédé comme ci-dessous pour augmenter une variable de 1 :\n",
    "\n",
    "variable = variable + 1\n",
    "Cette syntaxe est claire et intuitive mais assez longue, et les programmeurs, tout le monde le sait, sont des fainéants nés. On a donc trouvé plus court.\n",
    "\n",
    "variable += 1\n",
    "L'opérateur+=revient à ajouter à la variable la valeur qui suit l'opérateur. Les opérateurs -=, *= et /= existent également, bien qu'ils soient moins utilisés.\n",
    "Quelques trucs et astuces pour vous faciliter la vie\n",
    "Python propose un moyen simple de permuter deux variables (échanger leur valeur). Dans d'autres langages, il est nécessaire de passer par une troisième variable qui retient l'une des deux valeurs… ici c'est bien plus simple :\n",
    "\n",
    ">>> a = 5\n",
    "\n",
    ">>> b = 32\n",
    "\n",
    ">>> a,b = b,a # permutation\n",
    "\n",
    ">>> a\n",
    "\n",
    "32\n",
    "\n",
    ">>> b\n",
    "\n",
    "5\n",
    "\n",
    ">>>\n",
    "Comme vous le voyez, après l'exécution de la ligne 3, les variablesaetbont échangé leurs valeurs. On retrouvera cette distribution d'affectation bien plus loin.\n",
    "On peut aussi affecter assez simplement une même valeur à plusieurs variables :\n",
    "\n",
    ">>> x = y = 3\n",
    "\n",
    ">>> x\n",
    "\n",
    "3\n",
    "\n",
    ">>> y\n",
    "\n",
    "3\n",
    "\n",
    ">>>\n",
    "Enfin, ce n'est pas encore d'actualité pour vous mais sachez qu'on peut couper une instruction Python, pour l'écrire sur deux lignes ou plus.\n",
    "\n",
    ">>> 1 + 4 - 3 * 19 + 33 - 45 * 2 + (8 - 3) \\\n",
    "\n",
    "... -6 + 23.5\n",
    "\n",
    "-86.5\n",
    "\n",
    ">>>\n",
    "Comme vous le voyez, le symbole « \\ » permet, avant un saut de ligne, d'indiquer à Python que « cette instruction se poursuit à la ligne suivante ». Vous pouvez ainsi morceler votre instruction sur plusieurs lignes.\n",
    "Première utilisation des fonctions\n",
    "\n",
    "Eh bien, tout cela avance gentiment. Je me permets donc d'introduire ici, dans ce chapitre sur les variables, l'utilisation des fonctions. Il s'agit finalement bien davantage d'une application concrète de ce que vous avez appris à l'instant. Un chapitre entier sera consacré aux fonctions, mais utiliser celles que je vais vous montrer n'est pas sorcier et pourra vous être utile.\n",
    "Utiliser une fonction\n",
    "À quoi servent les fonctions ?\n",
    "Une fonction exécute un certain nombre d'instructions déjà enregistrées. En gros, c'est comme si vous enregistriez un groupe d'instructions pour faire une action précise et que vous lui donniez un nom. Vous n'avez plus ensuite qu'à appeler cette fonction par son nom autant de fois que nécessaire (cela évite bon nombre de répétitions). Mais nous verrons tout cela plus en détail par la suite.\n",
    "La plupart des fonctions ont besoin d'au moins un paramètre pour travailler sur une donnée ; ces paramètres sont des informations que vous passez à la fonction afin qu'elle travaille dessus. Les fonctions que je vais vous montrer ne font pas exception. Ce concept vous semble peut-être un peu difficile à saisir dans son ensemble mais rassurez-vous, les exemples devraient tout rendre limpide.\n",
    "Les fonctions s'utilisent en respectant la syntaxe suivante :nom_de_la_fonction(parametre_1,parametre_2,…,parametre_n).\n",
    "Vous commencez par écrire le nom de la fonction. ",
    "\n",
    "Vous placez entre parenthèses les paramètres de la fonction. Si la fonction n'attend aucun paramètre, vous devrez quand même mettre les parenthèses, sans rien entre elles. ",
    "\n",
    "La fonction « type »\n",
    "Dans la partie précédente, je vous ai présenté les types de données simples, du moins une partie d'entre eux. Une des grandes puissances de Python est qu'il comprend automatiquement de quel type est une variable et cela lors de son affectation. Mais il est pratique de pouvoir savoir de quel type est une variable.\n",
    "La syntaxe de cette fonction est simple :\n",
    "\n",
    "type(nom_de_la_variable)\n",
    "La fonction renvoie le type de la variable passée en paramètre. Vu que nous sommes dans l'interpréteur de commandes, cette valeur sera affichée. Si vous saisissez dans l'interpréteur les lignes suivantes :\n",
    "\n",
    ">>> a = 3\n",
    "\n",
    ">>> type(a)\n",
    "Vous obtenez :\n",
    "\n",
    "<class 'int'>\n",
    "Python vous indique donc que la variableaappartient à la classe des entiers. Cette notion de classe ne sera pas approfondie avant bien des chapitres mais sachez qu'on peut la rapprocher d'un type de donnée.\n",
    "Vous pouvez faire le test sans passer par des variables :\n",
    "\n",
    ">>> type(3.4)\n",
    "\n",
    "<class 'float'>\n",
    "\n",
    ">>> type(\"un essai\")\n",
    "\n",
    "<class 'str'>\n",
    "\n",
    ">>>\n",
    "strest l'abréviation de « string » qui signifie chaîne (sous-entendu, de caractères) en anglais.\n",
    "La fonctionprint\n",
    "La fonctionprintpermet d'afficher la valeur d'une ou plusieurs variables.\n",
    "Mais… on ne fait pas exactement la même chose en saisissant juste le nom de la variable dans l'interpréteur ?\n",
    "Oui et non. L'interpréteur affiche bien la valeur de la variable car il affiche automatiquement tout ce qu'il peut, pour pouvoir suivre les étapes d'un programme. Cependant, quand vous ne travaillerez plus avec l'interpréteur, taper simplement le nom de la variable n'aura aucun effet. De plus, et vous l'aurez sans doute remarqué, l'interpréteur entoure les chaînes de caractères de délimiteurs et affiche les caractères d'échappement, tout ceci encore pour des raisons de clarté.\n",
    "La fonctionprintest dédiée à l'affichage uniquement. Le nombre de ses paramètres est variable, c'est-à-dire que vous pouvez lui demander d'afficher une ou plusieurs variables. Considérez cet exemple :\n",
    "\n",
    ">>> a = 3\n",
    "\n",
    ">>> print(a)\n",
    "\n",
    ">>> a = a + 3\n",
    "\n",
    ">>> b = a - 2\n",
    "\n",
    ">>> print(\"a =\", a, \"et b =\", b)\n",
    "Le premier appel àprintse contente d'afficher la valeur de la variablea, c'est-à-dire « 3 ». ",
    "Le second appel àprintaffiche :\n",
    "\n",
    "a = 6 et b = 4\n",
    "Ce deuxième appel àprintest peut-être un peu plus dur à comprendre. En fait, on passe quatre paramètres àprint, deux chaînes de caractères et les variablesaetb. Quand Python interprète cet appel de fonction, il va afficher les paramètres dans l'ordre de passage, en les séparant par un espace.\n",
    "Relisez bien cet exemple, il montre tout l'intérêt des fonctions. Si vous avez du mal à le comprendre dans son ensemble, décortiquez-le en prenant indépendamment chaque paramètre.\n",
    "Testez l'utilisation deprintavec d'autres types de données et en insérant des chaînes avec des sauts de lignes et des caractères échappés, pour bien vous rendre compte de la différence.\n",
    "Un petit « Hello World ! » ?\n",
    "Quand on fait un cours sur un langage, quel qu'il soit, il est d'usage de présenter le programme « Hello World ! », qui illustre assez rapidement la syntaxe superficielle d'un langage.\n",
    "Le but du jeu est très simple : écrire un programme qui affiche « Hello World ! » à l'écran. Dans certains langages, notamment les langages compilés, vous pourrez nécessiter jusqu'à une dizaine de lignes pour obtenir ce résultat. En Python, comme nous venons de le voir, il suffit d'une seule ligne :\n",
    "\n",
    ">>> print(\"Hello World !\")\n",
    "Pour plus d'informations, n'hésitez pas à consulter la page Wikipédia consacrée à « Hello World ! » ; vous avez même des codes rédigés en différents langages de programmation, cela peut être intéressant.\n",
    "En résumé\n",
    "Les variables permettent de conserver dans le temps des données de votre programme. ",
    "\n",
    "Vous pouvez vous servir de ces variables pour différentes choses : les afficher, faire des calculs avec, etc. ",
    "\n",
    "Pour affecter une valeur à une variable, on utilise la syntaxenom_de_variable = valeur. ",
    "\n",
    "Il existe différents types de variables, en fonction de l'information que vous désirez conserver :int,float, chaîne de caractères etc. ",
    "\n",
    "Pour afficher une donnée, comme la valeur d'une variable par exemple, on utilise la fonctionprint. ",
    "\n",
    " "
   ]
  },
  {
   "cell_type": "code",
   "execution_count": null,
   "metadata": {},
   "outputs": [],
   "source": []
  }
 ],
 "metadata": {
  "kernelspec": {
   "display_name": "Python 3",
   "language": "python",
   "name": "python3"
  },
  "language_info": {
   "codemirror_mode": {
    "name": "ipython",
    "version": 3
   },
   "file_extension": ".py",
   "mimetype": "text/x-python",
   "name": "python",
   "nbconvert_exporter": "python",
   "pygments_lexer": "ipython3",
   "version": "3.7.1"
  }
 },
 "nbformat": 4,
 "nbformat_minor": 2
}
