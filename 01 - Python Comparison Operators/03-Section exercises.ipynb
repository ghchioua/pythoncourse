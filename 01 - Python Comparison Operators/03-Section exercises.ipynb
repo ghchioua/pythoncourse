{
 "cells": [
  {
   "cell_type": "markdown",
   "metadata": {
    "collapsed": true,
    "pycharm": {
     "name": "#%% md\n"
    }
   },
   "source": [
    "# Exercises "
   ]
  },
  {
   "cell_type": "markdown",
   "source": [
    "## Comparison operators"
   ],
   "metadata": {
    "collapsed": false
   }
  },
  {
   "cell_type": "markdown",
   "source": [
    "### Exercise 1\n",
    "\n",
    "What Boolean will be the output of the following:\n",
    "\n",
    "2 < 4\n",
    "\n",
    "* True\n",
    "* False"
   ],
   "metadata": {
    "collapsed": false
   }
  },
  {
   "cell_type": "markdown",
   "source": [
    "### Exercise 2\n",
    "\n",
    "What Boolean will be the output of the following:\n",
    "\n",
    "a = 12\n",
    "\n",
    "b = a-10\n",
    "\n",
    "a > b\n",
    "\n",
    "* True\n",
    "* False"
   ],
   "metadata": {
    "collapsed": false
   }
  },
  {
   "cell_type": "markdown",
   "source": [
    "### Exercise 3\n",
    "\n",
    "What Boolean will be the output of the following:\n",
    "\n",
    "12 != 12\n",
    "\n",
    "* True\n",
    "* False"
   ],
   "metadata": {
    "collapsed": false
   }
  },
  {
   "cell_type": "markdown",
   "source": [
    "### Exercise 4\n",
    "\n",
    "What Boolean will be the output of the following:\n",
    "\n",
    "2 < 3 > 10\n",
    "\n",
    "* True\n",
    "* False"
   ],
   "metadata": {
    "collapsed": false
   }
  },
  {
   "cell_type": "markdown",
   "source": [
    "### Exercise 5\n",
    "\n",
    "What Boolean will be the output of the following:\n",
    "\n",
    "2 <= 3 >= 1\n",
    "\n",
    "* True\n",
    "* False"
   ],
   "metadata": {
    "collapsed": false
   }
  },
  {
   "cell_type": "markdown",
   "source": [
    "## Solutions"
   ],
   "metadata": {
    "collapsed": false
   }
  },
  {
   "cell_type": "markdown",
   "source": [
    "### Solution 1\n",
    "\n",
    "What Boolean will be the output of the following:\n",
    "\n",
    "2 < 4\n",
    "\n",
    "* True"
   ],
   "metadata": {
    "collapsed": false
   }
  },
  {
   "cell_type": "markdown",
   "source": [
    "### Solution 2\n",
    "\n",
    "What Boolean will be the output of the following:\n",
    "\n",
    "a = 12\n",
    "\n",
    "b = a-10\n",
    "\n",
    "a > b\n",
    "\n",
    "* True"
   ],
   "metadata": {
    "collapsed": false
   }
  },
  {
   "cell_type": "markdown",
   "source": [
    "### Solution 3\n",
    "\n",
    "What Boolean will be the output of the following:\n",
    "\n",
    "12 != 12\n",
    "\n",
    "* False"
   ],
   "metadata": {
    "collapsed": false
   }
  },
  {
   "cell_type": "markdown",
   "source": [
    "### Solution 4\n",
    "\n",
    "What Boolean will be the output of the following:\n",
    "\n",
    "2 < 3 > 10\n",
    "\n",
    "* False"
   ],
   "metadata": {
    "collapsed": false
   }
  },
  {
   "cell_type": "markdown",
   "source": [
    "### Solution 5\n",
    "\n",
    "What Boolean will be the output of the following:\n",
    "\n",
    "2 <= 3 >= 1\n",
    "\n",
    "* True\n",
    "\n",
    "\n",
    "\n",
    "\n",
    "\n",
    "\n",
    "\n",
    "\n",
    "\n"
   ],
   "metadata": {
    "collapsed": false
   }
  }
 ],
 "metadata": {
  "kernelspec": {
   "display_name": "${KERNEL_SPEC_DISPLAY_NAME}",
   "language": "${KERNEL_SPEC_LANGUAGE}",
   "name": "${KERNEL_SPEC_NAME}"
  },
  "language_info": {
   "codemirror_mode": {
    "name": "ipython",
    "version": 2
   },
   "file_extension": ".py",
   "mimetype": "text/x-python",
   "name": "python",
   "nbconvert_exporter": "python",
   "pygments_lexer": "ipython2",
   "version": "2.7.6"
  },
  "pycharm": {
   "stem_cell": {
    "cell_type": "raw",
    "source": [],
    "metadata": {
     "collapsed": false
    }
   }
  }
 },
 "nbformat": 4,
 "nbformat_minor": 0
}